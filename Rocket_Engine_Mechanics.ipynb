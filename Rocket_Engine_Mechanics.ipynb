{
  "nbformat": 4,
  "nbformat_minor": 0,
  "metadata": {
    "colab": {
      "provenance": [],
      "authorship_tag": "ABX9TyPaFBR2XVEq2jEVjCg2TA56"
    },
    "kernelspec": {
      "name": "python3",
      "display_name": "Python 3"
    },
    "language_info": {
      "name": "python"
    }
  },
  "cells": [
    {
      "cell_type": "code",
      "execution_count": null,
      "metadata": {
        "colab": {
          "base_uri": "https://localhost:8080/"
        },
        "id": "MeKI2rKca9LJ",
        "outputId": "4d744ede-0f97-4b20-ce1b-13f3911c2733"
      },
      "outputs": [
        {
          "output_type": "stream",
          "name": "stdout",
          "text": [
            "🚀 Engine Data with Performance Classification:\n",
            "\n",
            "    engine  thrust_kN  burn_time_sec fuel_type  total_impulse_kN_sec  \\\n",
            "0   Merlin        845            162      RP-1                136890   \n",
            "1   Raptor       2300            170   Methane                391000   \n",
            "2  Vulcain       1350            600  Hydrogen                810000   \n",
            "3     BE-4       2400            180   Methane                432000   \n",
            "4   RD-180       4150            210      RP-1                871500   \n",
            "\n",
            "  performance_class  \n",
            "0        Light Lift  \n",
            "1       Medium Lift  \n",
            "2        Heavy Lift  \n",
            "3        Heavy Lift  \n",
            "4        Heavy Lift  \n",
            "\n",
            "🔍 Average Performance by Fuel Type:\n",
            "\n",
            "           thrust_kN  burn_time_sec\n",
            "fuel_type                          \n",
            "Hydrogen      1350.0          600.0\n",
            "Methane       2350.0          175.0\n",
            "RP-1          2497.5          186.0\n"
          ]
        }
      ],
      "source": [
        "import pandas as pd\n",
        "\n",
        "# Sample data: engine burn stats for different rockets\n",
        "data = {\n",
        "    'engine': ['Merlin', 'Raptor', 'Vulcain', 'BE-4', 'RD-180'],\n",
        "    'thrust_kN': [845, 2300, 1350, 2400, 4150],  # kilonewtons\n",
        "    'burn_time_sec': [162, 170, 600, 180, 210],\n",
        "    'fuel_type': ['RP-1', 'Methane', 'Hydrogen', 'Methane', 'RP-1']\n",
        "}\n",
        "\n",
        "df = pd.DataFrame(data)\n",
        "\n",
        "# Add derived column: impulse = thrust × burn_time\n",
        "df['total_impulse_kN_sec'] = df['thrust_kN'] * df['burn_time_sec']\n",
        "\n",
        "# Add conditional labels like a simple ML classifier\n",
        "def classify_performance(row):\n",
        "    if row['total_impulse_kN_sec'] > 400000:\n",
        "        return 'Heavy Lift'\n",
        "    elif row['total_impulse_kN_sec'] > 200000:\n",
        "        return 'Medium Lift'\n",
        "    else:\n",
        "        return 'Light Lift'\n",
        "\n",
        "df['performance_class'] = df.apply(classify_performance, axis=1)\n",
        "\n",
        "# Optional: Group by fuel type and get stats\n",
        "fuel_summary = df.groupby('fuel_type')[['thrust_kN', 'burn_time_sec']].mean()\n",
        "\n",
        "# Output\n",
        "print(\"🚀 Engine Data with Performance Classification:\\n\")\n",
        "print(df)\n",
        "print(\"\\n🔍 Average Performance by Fuel Type:\\n\")\n",
        "print(fuel_summary)"
      ]
    }
  ]
}